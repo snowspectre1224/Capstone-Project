{
 "cells": [
  {
   "cell_type": "markdown",
   "metadata": {
    "collapsed": true
   },
   "source": [
    "<h1>Capstone Project - The Battle of Neighborhoods (Week 1)"
   ]
  },
  {
   "cell_type": "markdown",
   "metadata": {},
   "source": [
    "<h2>1. Introduction"
   ]
  },
  {
   "cell_type": "markdown",
   "metadata": {},
   "source": [
    "<h4>Background:"
   ]
  },
  {
   "cell_type": "markdown",
   "metadata": {},
   "source": [
    "To the freshmen entering the university, finding a suitable apartment near the university is an important issue."
   ]
  },
  {
   "cell_type": "markdown",
   "metadata": {},
   "source": [
    "<h4>Problem："
   ]
  },
  {
   "cell_type": "markdown",
   "metadata": {},
   "source": [
    "In this scenario, our client is a student who have been offered from New York University. He has lived in the downtown of Toronto for 18 years and enjoyed many amenities in his home area, such as grocery shops, cafes, international restaurants and entertainments. Now the client wants to find a convenient and suitable place which has the similar living environment he used to. \n",
    "Our client set some demands of the apartment to make evaluations of the rental options in Manhattan: \n",
    "1.\tApartment with 2 bedrooms & 2 bathrooms\n",
    "2.\tLess than $3000 per month\n",
    "3.\tWithin 3 miles from NYU\n",
    "4.\tNear to grocery shops, Asian restaurants, coffee shops, metro stations"
   ]
  },
  {
   "cell_type": "markdown",
   "metadata": {},
   "source": [
    "<h4>Targeted audience:"
   ]
  },
  {
   "cell_type": "markdown",
   "metadata": {},
   "source": [
    "This scenario can be applied on any college freshmen who are moving to a new place for study. This methodology can be adjusted to satisfy anyone who are going to move to a new city, a new place."
   ]
  },
  {
   "cell_type": "markdown",
   "metadata": {},
   "source": [
    "<h1>2. Data"
   ]
  },
  {
   "cell_type": "markdown",
   "metadata": {},
   "source": [
    "<h4>Data Description:"
   ]
  },
  {
   "cell_type": "markdown",
   "metadata": {},
   "source": [
    "1.\tExtract the neighborhoods from the following link: https://geo.nyu.edu/catalog/nyu_2451_34572\n",
    "2.\tGeodata (latitude & longitude) of NYU & its neighborhoods: Geocoder Python package\n",
    "3.\tApartments for rent within the required area (3 miles): Foursquare API\n",
    "4.\tApartments for rent with additional requirements ($3000/month, 2B2B, etc):https://www.apartments.com/off-campus-housing/ny/new-york/new-york-university-washington-square-campus/apartments/2-bedrooms-2-bathrooms-under-3000/student-housing/?bb=8qk_7q33vHzs555c \n"
   ]
  },
  {
   "cell_type": "code",
   "execution_count": null,
   "metadata": {},
   "outputs": [],
   "source": []
  }
 ],
 "metadata": {
  "kernelspec": {
   "display_name": "Python 3.6",
   "language": "python",
   "name": "python3"
  },
  "language_info": {
   "codemirror_mode": {
    "name": "ipython",
    "version": 3
   },
   "file_extension": ".py",
   "mimetype": "text/x-python",
   "name": "python",
   "nbconvert_exporter": "python",
   "pygments_lexer": "ipython3",
   "version": "3.6.9"
  }
 },
 "nbformat": 4,
 "nbformat_minor": 1
}
